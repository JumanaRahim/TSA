{
  "nbformat": 4,
  "nbformat_minor": 0,
  "metadata": {
    "colab": {
      "name": "Untitled14.ipynb",
      "provenance": [],
      "authorship_tag": "ABX9TyP0HEnaxQiki7xp3TJqznyq",
      "include_colab_link": true
    },
    "kernelspec": {
      "name": "python3",
      "display_name": "Python 3"
    },
    "language_info": {
      "name": "python"
    }
  },
  "cells": [
    {
      "cell_type": "markdown",
      "metadata": {
        "id": "view-in-github",
        "colab_type": "text"
      },
      "source": [
        "<a href=\"https://colab.research.google.com/github/JumanaRahim/TSA/blob/main/Assignment%202/.ipynb\" target=\"_parent\"><img src=\"https://colab.research.google.com/assets/colab-badge.svg\" alt=\"Open In Colab\"/></a>"
      ]
    },
    {
      "cell_type": "code",
      "execution_count": 17,
      "metadata": {
        "colab": {
          "base_uri": "https://localhost:8080/"
        },
        "id": "cWKMgOODxHoO",
        "outputId": "73b9fd70-1cd3-4c72-e9f7-e9bbc8b8721d"
      },
      "outputs": [
        {
          "output_type": "stream",
          "name": "stdout",
          "text": [
            "            Temp\n",
            "Date            \n",
            "01-01-1981  20.7\n",
            "02-01-1981  17.9\n",
            "03-01-1981  18.8\n",
            "04-01-1981  14.6\n",
            "05-01-1981  15.8\n"
          ]
        }
      ],
      "source": [
        "from pandas import read_csv\n",
        "import pandas as pd\n",
        "from matplotlib import pyplot\n",
        "series = read_csv('/content/daily-min-temperatures.csv', header=0, index_col=0)\n",
        "print(series.head())\n",
        "pyplot.show()"
      ]
    },
    {
      "cell_type": "code",
      "source": [
        "from statsmodels.tsa.stattools import adfuller"
      ],
      "metadata": {
        "id": "VGF0BK12zBnQ"
      },
      "execution_count": 18,
      "outputs": []
    },
    {
      "cell_type": "code",
      "source": [
        "series2=pd.read_csv('/content/daily-min-temperatures.csv',index_col='Date',squeeze=True)\n",
        "X=series2.values\n",
        "result=adfuller(X)\n",
        "series2"
      ],
      "metadata": {
        "id": "pKucfL-3zaVe",
        "outputId": "9a38c07d-e4a3-45eb-e839-4fdeed8c0b72",
        "colab": {
          "base_uri": "https://localhost:8080/"
        }
      },
      "execution_count": 19,
      "outputs": [
        {
          "output_type": "execute_result",
          "data": {
            "text/plain": [
              "Date\n",
              "01-01-1981    20.7\n",
              "02-01-1981    17.9\n",
              "03-01-1981    18.8\n",
              "04-01-1981    14.6\n",
              "05-01-1981    15.8\n",
              "              ... \n",
              "27-12-1990    14.0\n",
              "28-12-1990    13.6\n",
              "29-12-1990    13.5\n",
              "30-12-1990    15.7\n",
              "31-12-1990    13.0\n",
              "Name: Temp, Length: 3650, dtype: float64"
            ]
          },
          "metadata": {},
          "execution_count": 19
        }
      ]
    },
    {
      "cell_type": "code",
      "source": [
        "result"
      ],
      "metadata": {
        "id": "aN05A9fk0_Bq",
        "outputId": "1b0831eb-f683-407e-b42f-eb5eb454e27b",
        "colab": {
          "base_uri": "https://localhost:8080/"
        }
      },
      "execution_count": 20,
      "outputs": [
        {
          "output_type": "execute_result",
          "data": {
            "text/plain": [
              "(-4.444804924611696,\n",
              " 0.0002470826300361034,\n",
              " 20,\n",
              " 3629,\n",
              " {'1%': -3.4321532327220154,\n",
              "  '10%': -2.56719413172842,\n",
              "  '5%': -2.862336767636517},\n",
              " 16642.822304301197)"
            ]
          },
          "metadata": {},
          "execution_count": 20
        }
      ]
    },
    {
      "cell_type": "code",
      "source": [
        "series"
      ],
      "metadata": {
        "id": "oSrINUe51CZv",
        "outputId": "96d349da-4a04-4207-b537-82fd9bb342cf",
        "colab": {
          "base_uri": "https://localhost:8080/",
          "height": 455
        }
      },
      "execution_count": 21,
      "outputs": [
        {
          "output_type": "execute_result",
          "data": {
            "text/plain": [
              "            Temp\n",
              "Date            \n",
              "01-01-1981  20.7\n",
              "02-01-1981  17.9\n",
              "03-01-1981  18.8\n",
              "04-01-1981  14.6\n",
              "05-01-1981  15.8\n",
              "...          ...\n",
              "27-12-1990  14.0\n",
              "28-12-1990  13.6\n",
              "29-12-1990  13.5\n",
              "30-12-1990  15.7\n",
              "31-12-1990  13.0\n",
              "\n",
              "[3650 rows x 1 columns]"
            ],
            "text/html": [
              "\n",
              "  <div id=\"df-c15a2af8-2a52-447b-b24b-ef9a96748955\">\n",
              "    <div class=\"colab-df-container\">\n",
              "      <div>\n",
              "<style scoped>\n",
              "    .dataframe tbody tr th:only-of-type {\n",
              "        vertical-align: middle;\n",
              "    }\n",
              "\n",
              "    .dataframe tbody tr th {\n",
              "        vertical-align: top;\n",
              "    }\n",
              "\n",
              "    .dataframe thead th {\n",
              "        text-align: right;\n",
              "    }\n",
              "</style>\n",
              "<table border=\"1\" class=\"dataframe\">\n",
              "  <thead>\n",
              "    <tr style=\"text-align: right;\">\n",
              "      <th></th>\n",
              "      <th>Temp</th>\n",
              "    </tr>\n",
              "    <tr>\n",
              "      <th>Date</th>\n",
              "      <th></th>\n",
              "    </tr>\n",
              "  </thead>\n",
              "  <tbody>\n",
              "    <tr>\n",
              "      <th>01-01-1981</th>\n",
              "      <td>20.7</td>\n",
              "    </tr>\n",
              "    <tr>\n",
              "      <th>02-01-1981</th>\n",
              "      <td>17.9</td>\n",
              "    </tr>\n",
              "    <tr>\n",
              "      <th>03-01-1981</th>\n",
              "      <td>18.8</td>\n",
              "    </tr>\n",
              "    <tr>\n",
              "      <th>04-01-1981</th>\n",
              "      <td>14.6</td>\n",
              "    </tr>\n",
              "    <tr>\n",
              "      <th>05-01-1981</th>\n",
              "      <td>15.8</td>\n",
              "    </tr>\n",
              "    <tr>\n",
              "      <th>...</th>\n",
              "      <td>...</td>\n",
              "    </tr>\n",
              "    <tr>\n",
              "      <th>27-12-1990</th>\n",
              "      <td>14.0</td>\n",
              "    </tr>\n",
              "    <tr>\n",
              "      <th>28-12-1990</th>\n",
              "      <td>13.6</td>\n",
              "    </tr>\n",
              "    <tr>\n",
              "      <th>29-12-1990</th>\n",
              "      <td>13.5</td>\n",
              "    </tr>\n",
              "    <tr>\n",
              "      <th>30-12-1990</th>\n",
              "      <td>15.7</td>\n",
              "    </tr>\n",
              "    <tr>\n",
              "      <th>31-12-1990</th>\n",
              "      <td>13.0</td>\n",
              "    </tr>\n",
              "  </tbody>\n",
              "</table>\n",
              "<p>3650 rows × 1 columns</p>\n",
              "</div>\n",
              "      <button class=\"colab-df-convert\" onclick=\"convertToInteractive('df-c15a2af8-2a52-447b-b24b-ef9a96748955')\"\n",
              "              title=\"Convert this dataframe to an interactive table.\"\n",
              "              style=\"display:none;\">\n",
              "        \n",
              "  <svg xmlns=\"http://www.w3.org/2000/svg\" height=\"24px\"viewBox=\"0 0 24 24\"\n",
              "       width=\"24px\">\n",
              "    <path d=\"M0 0h24v24H0V0z\" fill=\"none\"/>\n",
              "    <path d=\"M18.56 5.44l.94 2.06.94-2.06 2.06-.94-2.06-.94-.94-2.06-.94 2.06-2.06.94zm-11 1L8.5 8.5l.94-2.06 2.06-.94-2.06-.94L8.5 2.5l-.94 2.06-2.06.94zm10 10l.94 2.06.94-2.06 2.06-.94-2.06-.94-.94-2.06-.94 2.06-2.06.94z\"/><path d=\"M17.41 7.96l-1.37-1.37c-.4-.4-.92-.59-1.43-.59-.52 0-1.04.2-1.43.59L10.3 9.45l-7.72 7.72c-.78.78-.78 2.05 0 2.83L4 21.41c.39.39.9.59 1.41.59.51 0 1.02-.2 1.41-.59l7.78-7.78 2.81-2.81c.8-.78.8-2.07 0-2.86zM5.41 20L4 18.59l7.72-7.72 1.47 1.35L5.41 20z\"/>\n",
              "  </svg>\n",
              "      </button>\n",
              "      \n",
              "  <style>\n",
              "    .colab-df-container {\n",
              "      display:flex;\n",
              "      flex-wrap:wrap;\n",
              "      gap: 12px;\n",
              "    }\n",
              "\n",
              "    .colab-df-convert {\n",
              "      background-color: #E8F0FE;\n",
              "      border: none;\n",
              "      border-radius: 50%;\n",
              "      cursor: pointer;\n",
              "      display: none;\n",
              "      fill: #1967D2;\n",
              "      height: 32px;\n",
              "      padding: 0 0 0 0;\n",
              "      width: 32px;\n",
              "    }\n",
              "\n",
              "    .colab-df-convert:hover {\n",
              "      background-color: #E2EBFA;\n",
              "      box-shadow: 0px 1px 2px rgba(60, 64, 67, 0.3), 0px 1px 3px 1px rgba(60, 64, 67, 0.15);\n",
              "      fill: #174EA6;\n",
              "    }\n",
              "\n",
              "    [theme=dark] .colab-df-convert {\n",
              "      background-color: #3B4455;\n",
              "      fill: #D2E3FC;\n",
              "    }\n",
              "\n",
              "    [theme=dark] .colab-df-convert:hover {\n",
              "      background-color: #434B5C;\n",
              "      box-shadow: 0px 1px 3px 1px rgba(0, 0, 0, 0.15);\n",
              "      filter: drop-shadow(0px 1px 2px rgba(0, 0, 0, 0.3));\n",
              "      fill: #FFFFFF;\n",
              "    }\n",
              "  </style>\n",
              "\n",
              "      <script>\n",
              "        const buttonEl =\n",
              "          document.querySelector('#df-c15a2af8-2a52-447b-b24b-ef9a96748955 button.colab-df-convert');\n",
              "        buttonEl.style.display =\n",
              "          google.colab.kernel.accessAllowed ? 'block' : 'none';\n",
              "\n",
              "        async function convertToInteractive(key) {\n",
              "          const element = document.querySelector('#df-c15a2af8-2a52-447b-b24b-ef9a96748955');\n",
              "          const dataTable =\n",
              "            await google.colab.kernel.invokeFunction('convertToInteractive',\n",
              "                                                     [key], {});\n",
              "          if (!dataTable) return;\n",
              "\n",
              "          const docLinkHtml = 'Like what you see? Visit the ' +\n",
              "            '<a target=\"_blank\" href=https://colab.research.google.com/notebooks/data_table.ipynb>data table notebook</a>'\n",
              "            + ' to learn more about interactive tables.';\n",
              "          element.innerHTML = '';\n",
              "          dataTable['output_type'] = 'display_data';\n",
              "          await google.colab.output.renderOutput(dataTable, element);\n",
              "          const docLink = document.createElement('div');\n",
              "          docLink.innerHTML = docLinkHtml;\n",
              "          element.appendChild(docLink);\n",
              "        }\n",
              "      </script>\n",
              "    </div>\n",
              "  </div>\n",
              "  "
            ]
          },
          "metadata": {},
          "execution_count": 21
        }
      ]
    },
    {
      "cell_type": "code",
      "source": [
        "#Check for Autocorrelation\n",
        "from pandas import read_csv\n",
        "from matplotlib import pyplot\n",
        "from pandas.plotting import autocorrelation_plot\n",
        "series = read_csv('daily-min-temperatures.csv', header=0, index_col=0)\n",
        "autocorrelation_plot(series)\n",
        "pyplot.show()"
      ],
      "metadata": {
        "colab": {
          "base_uri": "https://localhost:8080/",
          "height": 283
        },
        "id": "NLv9BAaGzWoU",
        "outputId": "97cf56c5-0893-436f-98a9-b00d0b590361"
      },
      "execution_count": 22,
      "outputs": [
        {
          "output_type": "display_data",
          "data": {
            "text/plain": [
              "<Figure size 432x288 with 1 Axes>"
            ],
            "image/png": "[encoded data removed]"
          },
          "metadata": {
            "needs_background": "light"
          }
        }
      ]
    },
    {
      "cell_type": "code",
      "source": [
        "from pandas import read_csv\n",
        "from matplotlib import pyplot\n",
        "from statsmodels.graphics.tsaplots import plot_acf\n",
        "series = read_csv('daily-min-temperatures.csv', header=0, index_col=0)\n",
        "plot_acf(series, lags=31)\n",
        "pyplot.show()"
      ],
      "metadata": {
        "colab": {
          "base_uri": "https://localhost:8080/",
          "height": 281
        },
        "id": "xJyA1P2pzimD",
        "outputId": "c643453b-d46f-446a-fd2f-ff50ca0f10c6"
      },
      "execution_count": 23,
      "outputs": [
        {
          "output_type": "display_data",
          "data": {
            "text/plain": [
              "<Figure size 432x288 with 1 Axes>"
            ],
            "image/png": "[encoded data removed]"
          },
          "metadata": {
            "needs_background": "light"
          }
        }
      ]
    },
    {
      "cell_type": "code",
      "source": [
        "from statsmodels.graphics.tsaplots import plot_pacf\n",
        "plot_pacf(series,lags=25)\n",
        "pyplot.show()"
      ],
      "metadata": {
        "id": "o6tqlRrd1lE4",
        "outputId": "df405976-8a84-4478-d7cb-29a023c6e46b",
        "colab": {
          "base_uri": "https://localhost:8080/",
          "height": 336
        }
      },
      "execution_count": 24,
      "outputs": [
        {
          "output_type": "stream",
          "name": "stderr",
          "text": [
            "/usr/local/lib/python3.7/dist-packages/statsmodels/graphics/tsaplots.py:353: FutureWarning: The default method 'yw' can produce PACF values outside of the [-1,1] interval. After 0.13, the default will change tounadjusted Yule-Walker ('ywm'). You can use this method now by setting method='ywm'.\n",
            "  FutureWarning,\n"
          ]
        },
        {
          "output_type": "display_data",
          "data": {
            "text/plain": [
              "<Figure size 432x288 with 1 Axes>"
            ],
            "image/png": "[encoded data removed]"
          },
          "metadata": {
            "needs_background": "light"
          }
        }
      ]
    },
    {
      "cell_type": "code",
      "source": [
        "X=series.values"
      ],
      "metadata": {
        "id": "4Jgytqgi2LoY"
      },
      "execution_count": 25,
      "outputs": []
    },
    {
      "cell_type": "code",
      "source": [
        "X"
      ],
      "metadata": {
        "id": "Af2zMdaN2Pgy",
        "outputId": "02da2e40-cd14-461e-fffb-fe65cf9eb577",
        "colab": {
          "base_uri": "https://localhost:8080/"
        }
      },
      "execution_count": 26,
      "outputs": [
        {
          "output_type": "execute_result",
          "data": {
            "text/plain": [
              "array([[20.7],\n",
              "       [17.9],\n",
              "       [18.8],\n",
              "       ...,\n",
              "       [13.5],\n",
              "       [15.7],\n",
              "       [13. ]])"
            ]
          },
          "metadata": {},
          "execution_count": 26
        }
      ]
    },
    {
      "cell_type": "code",
      "source": [
        "# Splitting the data into training and test data sets\n",
        "train =series['Temp'].iloc[:-5]\n",
        "test =series['Temp'].iloc[-5:]\n",
        "train"
      ],
      "metadata": {
        "id": "ePpjY_Qz3AFf",
        "outputId": "5dabaa9e-85d9-4509-9636-183287eef816",
        "colab": {
          "base_uri": "https://localhost:8080/"
        }
      },
      "execution_count": 27,
      "outputs": [
        {
          "output_type": "execute_result",
          "data": {
            "text/plain": [
              "Date\n",
              "01-01-1981    20.7\n",
              "02-01-1981    17.9\n",
              "03-01-1981    18.8\n",
              "04-01-1981    14.6\n",
              "05-01-1981    15.8\n",
              "              ... \n",
              "22-12-1990    13.2\n",
              "23-12-1990    13.9\n",
              "24-12-1990    10.0\n",
              "25-12-1990    12.9\n",
              "26-12-1990    14.6\n",
              "Name: Temp, Length: 3645, dtype: float64"
            ]
          },
          "metadata": {},
          "execution_count": 27
        }
      ]
    },
    {
      "cell_type": "code",
      "source": [
        "test\n"
      ],
      "metadata": {
        "id": "MANxu3QF5wKo",
        "outputId": "5d36c966-451c-4bf6-9355-f13e76b7a991",
        "colab": {
          "base_uri": "https://localhost:8080/"
        }
      },
      "execution_count": 28,
      "outputs": [
        {
          "output_type": "execute_result",
          "data": {
            "text/plain": [
              "Date\n",
              "27-12-1990    14.0\n",
              "28-12-1990    13.6\n",
              "29-12-1990    13.5\n",
              "30-12-1990    15.7\n",
              "31-12-1990    13.0\n",
              "Name: Temp, dtype: float64"
            ]
          },
          "metadata": {},
          "execution_count": 28
        }
      ]
    },
    {
      "cell_type": "code",
      "source": [
        "pip install statsmodels --upgrade"
      ],
      "metadata": {
        "id": "Vw2S0S4AP9RP",
        "outputId": "4b7db1c9-3484-4e43-d685-67b0f2a07c22",
        "colab": {
          "base_uri": "https://localhost:8080/"
        }
      },
      "execution_count": 29,
      "outputs": [
        {
          "output_type": "stream",
          "name": "stdout",
          "text": [
            "Looking in indexes: https://pypi.org/simple, https://us-python.pkg.dev/colab-wheels/public/simple/\n",
            "Requirement already satisfied: statsmodels in /usr/local/lib/python3.7/dist-packages (0.13.2)\n",
            "Requirement already satisfied: pandas>=0.25 in /usr/local/lib/python3.7/dist-packages (from statsmodels) (1.3.5)\n",
            "Requirement already satisfied: patsy>=0.5.2 in /usr/local/lib/python3.7/dist-packages (from statsmodels) (0.5.2)\n",
            "Requirement already satisfied: numpy>=1.17 in /usr/local/lib/python3.7/dist-packages (from statsmodels) (1.21.6)\n",
            "Requirement already satisfied: scipy>=1.3 in /usr/local/lib/python3.7/dist-packages (from statsmodels) (1.4.1)\n",
            "Requirement already satisfied: packaging>=21.3 in /usr/local/lib/python3.7/dist-packages (from statsmodels) (21.3)\n",
            "Requirement already satisfied: pyparsing!=3.0.5,>=2.0.2 in /usr/local/lib/python3.7/dist-packages (from packaging>=21.3->statsmodels) (3.0.9)\n",
            "Requirement already satisfied: pytz>=2017.3 in /usr/local/lib/python3.7/dist-packages (from pandas>=0.25->statsmodels) (2022.1)\n",
            "Requirement already satisfied: python-dateutil>=2.7.3 in /usr/local/lib/python3.7/dist-packages (from pandas>=0.25->statsmodels) (2.8.2)\n",
            "Requirement already satisfied: six in /usr/local/lib/python3.7/dist-packages (from patsy>=0.5.2->statsmodels) (1.15.0)\n"
          ]
        }
      ]
    },
    {
      "cell_type": "code",
      "source": [
        "from statsmodels.tsa.ar_model import AutoReg\n",
        "model = AutoReg(train,lags=22).fit()\n"
      ],
      "metadata": {
        "id": "9mKu4N9H5A4R",
        "outputId": "396f0af6-7ff5-46f7-d913-bc755e3856f6",
        "colab": {
          "base_uri": "https://localhost:8080/"
        }
      },
      "execution_count": 31,
      "outputs": [
        {
          "output_type": "stream",
          "name": "stderr",
          "text": [
            "/usr/local/lib/python3.7/dist-packages/statsmodels/tsa/base/tsa_model.py:471: ValueWarning: A date index has been provided, but it has no associated frequency information and so will be ignored when e.g. forecasting.\n",
            "  self._init_dates(dates, freq)\n",
            "/usr/local/lib/python3.7/dist-packages/statsmodels/tsa/base/tsa_model.py:471: ValueWarning: A date index has been provided, but it is not monotonic and so will be ignored when e.g. forecasting.\n",
            "  self._init_dates(dates, freq)\n"
          ]
        }
      ]
    },
    {
      "cell_type": "code",
      "source": [
        "print(model.summary())"
      ],
      "metadata": {
        "id": "v1DcH9BI7jsM",
        "outputId": "6a8fb415-5d7e-4483-ac92-ceb8b7075933",
        "colab": {
          "base_uri": "https://localhost:8080/"
        }
      },
      "execution_count": 32,
      "outputs": [
        {
          "output_type": "stream",
          "name": "stdout",
          "text": [
            "                            AutoReg Model Results                             \n",
            "==============================================================================\n",
            "Dep. Variable:                   Temp   No. Observations:                 3645\n",
            "Model:                    AutoReg(22)   Log Likelihood               -8306.707\n",
            "Method:               Conditional MLE   S.D. of innovations              2.396\n",
            "Date:                Tue, 28 Jun 2022   AIC                          16661.414\n",
            "Time:                        08:08:35   BIC                          16810.096\n",
            "Sample:                            22   HQIC                         16714.384\n",
            "                                 3645                                         \n",
            "==============================================================================\n",
            "                 coef    std err          z      P>|z|      [0.025      0.975]\n",
            "------------------------------------------------------------------------------\n",
            "const          0.6005      0.146      4.103      0.000       0.314       0.887\n",
            "Temp.L1        0.5902      0.017     35.563      0.000       0.558       0.623\n",
            "Temp.L2       -0.0916      0.019     -4.753      0.000      -0.129      -0.054\n",
            "Temp.L3        0.0483      0.019      2.502      0.012       0.010       0.086\n",
            "Temp.L4        0.0406      0.019      2.101      0.036       0.003       0.079\n",
            "Temp.L5        0.0405      0.019      2.096      0.036       0.003       0.078\n",
            "Temp.L6        0.0275      0.019      1.420      0.156      -0.010       0.065\n",
            "Temp.L7        0.0460      0.019      2.380      0.017       0.008       0.084\n",
            "Temp.L8        0.0150      0.019      0.774      0.439      -0.023       0.053\n",
            "Temp.L9        0.0391      0.019      2.020      0.043       0.001       0.077\n",
            "Temp.L10       0.0001      0.019      0.006      0.995      -0.038       0.038\n",
            "Temp.L11       0.0062      0.019      0.319      0.749      -0.032       0.044\n",
            "Temp.L12       0.0200      0.019      1.034      0.301      -0.018       0.058\n",
            "Temp.L13       0.0284      0.019      1.466      0.143      -0.010       0.066\n",
            "Temp.L14       0.0003      0.019      0.016      0.987      -0.038       0.038\n",
            "Temp.L15       0.0248      0.019      1.282      0.200      -0.013       0.063\n",
            "Temp.L16       0.0087      0.019      0.449      0.653      -0.029       0.047\n",
            "Temp.L17       0.0126      0.019      0.650      0.515      -0.025       0.050\n",
            "Temp.L18       0.0369      0.019      1.913      0.056      -0.001       0.075\n",
            "Temp.L19      -0.0065      0.019     -0.336      0.737      -0.044       0.031\n",
            "Temp.L20       0.0270      0.019      1.400      0.162      -0.011       0.065\n",
            "Temp.L21       0.0235      0.019      1.223      0.221      -0.014       0.061\n",
            "Temp.L22       0.0079      0.017      0.477      0.633      -0.025       0.040\n",
            "                                    Roots                                     \n",
            "==============================================================================\n",
            "                   Real          Imaginary           Modulus         Frequency\n",
            "------------------------------------------------------------------------------\n",
            "AR.1             1.0102           -0.0000j            1.0102           -0.0000\n",
            "AR.2             1.0662           -0.3377j            1.1184           -0.0488\n",
            "AR.3             1.0662           +0.3377j            1.1184            0.0488\n",
            "AR.4             0.9446           -0.6603j            1.1525           -0.0971\n",
            "AR.5             0.9446           +0.6603j            1.1525            0.0971\n",
            "AR.6             0.7333           -0.8996j            1.1606           -0.1411\n",
            "AR.7             0.7333           +0.8996j            1.1606            0.1411\n",
            "AR.8             0.4753           -1.0977j            1.1962           -0.1850\n",
            "AR.9             0.4753           +1.0977j            1.1962            0.1850\n",
            "AR.10            0.1369           -1.1628j            1.1709           -0.2314\n",
            "AR.11            0.1369           +1.1628j            1.1709            0.2314\n",
            "AR.12           -0.2343           -1.1759j            1.1990           -0.2813\n",
            "AR.13           -0.2343           +1.1759j            1.1990            0.2813\n",
            "AR.14           -0.5787           -1.0359j            1.1866           -0.3311\n",
            "AR.15           -0.5787           +1.0359j            1.1866            0.3311\n",
            "AR.16           -0.9250           -0.7657j            1.2008           -0.3900\n",
            "AR.17           -0.9250           +0.7657j            1.2008            0.3900\n",
            "AR.18           -1.1443           -0.3986j            1.2118           -0.4467\n",
            "AR.19           -1.1443           +0.3986j            1.2118            0.4467\n",
            "AR.20           -1.2560           -0.0000j            1.2560           -0.5000\n",
            "AR.21           -1.8399           -1.3848j            2.3028           -0.3973\n",
            "AR.22           -1.8399           +1.3848j            2.3028            0.3973\n",
            "------------------------------------------------------------------------------\n"
          ]
        }
      ]
    },
    {
      "cell_type": "code",
      "source": [
        "forecasts = model.forecast(5).tolist()\n",
        "test_values =test.tolist()\n",
        "for index in range(len(forecasts)):\n",
        "  difference = forecasts[index] - test_values[index]\n",
        "  print(forecasts[index], test_values[index], difference)"
      ],
      "metadata": {
        "id": "qn6Ony5LANMQ",
        "outputId": "0033085b-97c4-4527-ebe6-b286e0815792",
        "colab": {
          "base_uri": "https://localhost:8080/"
        }
      },
      "execution_count": 35,
      "outputs": [
        {
          "output_type": "stream",
          "name": "stdout",
          "text": [
            "14.454713753476343 14.0 0.4547137534763426\n",
            "13.79523914849815 13.6 0.19523914849814972\n",
            "13.439249978365861 13.5 -0.06075002163413856\n",
            "13.323261111336475 15.7 -2.3767388886635246\n",
            "13.111045598879578 13.0 0.11104559887957777\n"
          ]
        },
        {
          "output_type": "stream",
          "name": "stderr",
          "text": [
            "/usr/local/lib/python3.7/dist-packages/statsmodels/tsa/base/tsa_model.py:843: ValueWarning: No supported index is available. Prediction results will be given with an integer index beginning at `start`.\n",
            "  data=self.data,\n",
            "/usr/local/lib/python3.7/dist-packages/statsmodels/tsa/deterministic.py:302: UserWarning: Only PeriodIndexes, DatetimeIndexes with a frequency set, RangesIndexes, and Index with a unit increment support extending. The index is set will contain the position relative to the data length.\n",
            "  fcast_index = self._extend_index(index, steps, forecast_index)\n"
          ]
        }
      ]
    },
    {
      "cell_type": "code",
      "source": [
        "from sklearn.metrics import mean_squared_error\n",
        "print(mean_squared_error(test_values, forecasts))"
      ],
      "metadata": {
        "id": "46BXZYX0AWQ8",
        "outputId": "4bad6560-39d4-4bc0-99b2-912863ce94c3",
        "colab": {
          "base_uri": "https://localhost:8080/"
        }
      },
      "execution_count": 36,
      "outputs": [
        {
          "output_type": "stream",
          "name": "stdout",
          "text": [
            "1.181958471550285\n"
          ]
        }
      ]
    },
    {
      "cell_type": "code",
      "source": [
        "import matplotlib.pyplot as plt\n",
        "import numpy as np\n",
        "fig = plt.subplots(figsize=(12,8))\n",
        "plt.plot(forecasts, color=\"green\")\n",
        "plt.plot(test_values,color=\"blue\")\n",
        "plt.xticks(np.arange(0,6,1))\n",
        "plt.yticks(np.arange(12.5, 17, 0.5))\n",
        "plt.show()"
      ],
      "metadata": {
        "id": "9uf3Rm5kAcCM",
        "outputId": "389f182f-8e48-43ed-bdee-1bacc8d0e28f",
        "colab": {
          "base_uri": "https://localhost:8080/",
          "height": 487
        }
      },
      "execution_count": 39,
      "outputs": [
        {
          "output_type": "display_data",
          "data": {
            "text/plain": [
              "<Figure size 864x576 with 1 Axes>"
            ],
            "image/png": "[encoded data removed]"
          },
          "metadata": {
            "needs_background": "light"
          }
        }
      ]
    }
  ]
}